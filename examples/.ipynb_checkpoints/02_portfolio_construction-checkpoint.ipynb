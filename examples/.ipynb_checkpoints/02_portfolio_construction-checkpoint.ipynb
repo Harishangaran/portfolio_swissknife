{
 "cells": [
  {
   "cell_type": "markdown",
   "metadata": {},
   "source": [
    "# Example Notebook #2\n",
    "This notebook illustrates a portfolio construction process with the use of the `RiskModel` object. Its main purpose is to select a set of assets out of the investment universe characterised by the securities attribute in the `Portfolio` class. In this way, the process is repeated periodically forming a quantile spread on the selected factor. This simple dynamic factor allocation strategy can be backtested..."
   ]
  },
  {
   "cell_type": "code",
   "execution_count": 2,
   "metadata": {},
   "outputs": [],
   "source": [
    "import pandas as pd\n",
    "import numpy as np\n",
    "import matplotlib.pyplot as plt\n",
    "import os\n",
    "%load_ext autoreload\n",
    "%autoreload 2\n",
    "plt.style.use('bmh')"
   ]
  },
  {
   "cell_type": "code",
   "execution_count": 3,
   "metadata": {},
   "outputs": [],
   "source": [
    "from portfolio_swissknife import portfolio as ps\n",
    "from portfolio_swissknife import risk_model as rm"
   ]
  },
  {
   "cell_type": "code",
   "execution_count": 4,
   "metadata": {},
   "outputs": [],
   "source": [
    "#loading ext. data -- close prices of SPX\n",
    "universe = pd.read_csv('../ext_data/00_db_SPX__PX_LAST.csv', index_col = 0, parse_dates = True)\n",
    "universe = universe[::-1].loc[:,universe.notna().all(axis=0)]\n",
    "securities = [universe.columns[i].split(' ')[0] for i, _ in enumerate(universe.columns)]\n",
    "universe = universe.loc['2014':]"
   ]
  },
  {
   "cell_type": "code",
   "execution_count": 5,
   "metadata": {},
   "outputs": [],
   "source": [
    "port_universe = ps.Portfolio(securities)\n",
    "port_universe.set_custom_prices(universe, 'daily')"
   ]
  },
  {
   "cell_type": "code",
   "execution_count": 6,
   "metadata": {},
   "outputs": [
    {
     "name": "stdout",
     "output_type": "stream",
     "text": [
      "[*********************100%***********************]  6 of 6 completed\n"
     ]
    }
   ],
   "source": [
    "factors = ['SPY', 'VLUE', 'SIZE', 'QUAL', 'MTUM', 'USMV']\n",
    "rm_universe = rm.RiskModel(port_universe, factors)\n",
    "rm_universe.get_prices('daily')"
   ]
  },
  {
   "cell_type": "code",
   "execution_count": 7,
   "metadata": {},
   "outputs": [],
   "source": [
    "a, b, c = rm_universe._estimate_panel(method='linear')"
   ]
  },
  {
   "cell_type": "code",
   "execution_count": 8,
   "metadata": {},
   "outputs": [],
   "source": [
    "sort = np.argsort(b[:,0])"
   ]
  },
  {
   "cell_type": "code",
   "execution_count": 9,
   "metadata": {},
   "outputs": [],
   "source": [
    "sort2d = np.argsort(b,axis = 0)"
   ]
  },
  {
   "cell_type": "code",
   "execution_count": 10,
   "metadata": {},
   "outputs": [
    {
     "data": {
      "text/plain": [
       "array([ 80, 362, 306,  11, 288, 167, 285,   1,  40, 304, 384, 203, 109,\n",
       "       182,  90, 331, 209, 174, 137, 397, 253, 160, 392, 349, 215, 386,\n",
       "        81, 144, 400, 108, 284, 113, 276, 145, 104, 211, 201,  53, 334,\n",
       "       136, 398, 278, 300, 219, 355, 110, 299, 164, 342, 212, 127, 214,\n",
       "        79, 119, 267, 235, 380, 100, 147, 290, 210,  37, 322,  16, 133,\n",
       "       320, 242, 181, 153, 190, 130,  25, 134,  19, 169, 364, 247,  75,\n",
       "       279, 379,   8,  76, 357, 280, 118, 241,  85, 213,  32, 135, 368,\n",
       "       194,  59, 271, 124, 184, 390, 363,  39, 350,  14, 223, 329, 369,\n",
       "        64, 138, 282, 117, 126, 371, 370, 389, 326, 383, 115, 239, 308,\n",
       "       154, 296,  62, 207, 177,  98, 168,  97, 323, 155, 243, 344, 205,\n",
       "       301,  70, 341, 347, 274, 224,  82,  84, 302,  34, 286, 161, 297,\n",
       "       180, 216, 196, 162, 356,  65, 248, 220, 263, 199,   3, 176, 193,\n",
       "        15,  13,  54,  20, 125,  10, 354, 225, 309,  21,  72, 305, 315,\n",
       "        12, 255,  60, 208, 294, 245, 227, 375, 393,  24, 338,  56,  30,\n",
       "        66, 339, 178,  61, 101,  88,  89,  23, 151, 191, 311, 395, 365,\n",
       "       231, 373,  58, 218,  26, 232, 291, 171, 399, 295, 105,  87, 287,\n",
       "        33, 273, 148,  77, 141, 346,  35, 251, 198, 381, 188, 283, 388,\n",
       "       202, 112,  69,  47,  71,  17, 259,  52, 258, 387, 319, 206, 265,\n",
       "       238, 312, 343, 107, 376,  42, 318,  73, 140, 361, 313,  48, 353,\n",
       "       228,  49, 372, 262, 292,  93,   0, 129,  63, 143, 266, 307, 111,\n",
       "       270, 172, 310, 142, 328, 152,   5, 336,  50, 236, 402, 221, 226,\n",
       "       179, 249, 103, 157, 149, 159, 394,  22, 233, 237, 116,  46, 396,\n",
       "       324, 185, 385, 158, 382, 401, 321, 340,  43, 293,   6, 345, 123,\n",
       "       102, 252, 335,  86,  45, 187, 317,  51, 146, 332, 150, 359, 132,\n",
       "        74, 367, 351, 240, 106, 222, 163, 128, 314,  38,   2,  95, 261,\n",
       "        96, 272, 131,  57,  78, 173,  29, 374, 189, 260, 250, 244,  31,\n",
       "        44, 204, 268, 303, 230, 183, 325, 348, 277,  28,  99, 166, 337,\n",
       "       333, 192, 200, 360, 330, 391, 217, 352,   9, 257, 378, 234, 175,\n",
       "       139, 229, 377, 170,  41, 298,  55,  92,  94, 366,  67, 289, 120,\n",
       "       165, 254, 316,  68,  91,  83, 121, 114, 122, 195, 327, 269, 156,\n",
       "       186,  36, 197, 246, 256, 281,   7,  18, 358,  27, 264,   4, 275],\n",
       "      dtype=int64)"
      ]
     },
     "execution_count": 10,
     "metadata": {},
     "output_type": "execute_result"
    }
   ],
   "source": [
    "sort2d[:,0]"
   ]
  },
  {
   "cell_type": "code",
   "execution_count": 11,
   "metadata": {},
   "outputs": [
    {
     "data": {
      "text/plain": [
       "<BarContainer object of 403 artists>"
      ]
     },
     "execution_count": 11,
     "metadata": {},
     "output_type": "execute_result"
    },
    {
     "data": {
      "image/png": "[encoded data removed]",
      "text/plain": [
       "<Figure size 432x288 with 1 Axes>"
      ]
     },
     "metadata": {
      "needs_background": "light"
     },
     "output_type": "display_data"
    }
   ],
   "source": [
    "plt.bar(height=b[:,0][sort2d[:,0]],x=np.array(rm_universe.portfolio.securities)[sort2d[:,0]])"
   ]
  },
  {
   "cell_type": "code",
   "execution_count": 34,
   "metadata": {},
   "outputs": [],
   "source": [
    "pct = int(len(rm_universe.portfolio.securities)/10)"
   ]
  },
  {
   "cell_type": "code",
   "execution_count": 35,
   "metadata": {},
   "outputs": [],
   "source": [
    "bottom = np.array(rm_universe.portfolio.securities)[sort2d[:,0]][:pct]"
   ]
  },
  {
   "cell_type": "code",
   "execution_count": 36,
   "metadata": {},
   "outputs": [],
   "source": [
    "top  = np.array(rm_universe.portfolio.securities)[sort2d[:,0]][-pct:]"
   ]
  },
  {
   "cell_type": "code",
   "execution_count": 37,
   "metadata": {},
   "outputs": [
    {
     "data": {
      "text/plain": [
       "array([-2.97026508, -2.82582753, -1.93871211, -1.69416994, -1.46735364,\n",
       "       -1.45539494, -1.45151497, -1.41182147, -1.39549462, -1.37933249,\n",
       "       -1.25343855, -1.24754471, -1.20599353, -1.17633836, -1.17421021,\n",
       "       -1.15710134, -1.15296822, -1.14806608, -1.13529448, -1.12326192,\n",
       "       -1.11025316, -1.10583834, -1.04396153, -1.04131733, -1.03275356,\n",
       "       -1.03103577, -1.02334597, -1.00215144, -0.99374715, -0.98600699,\n",
       "       -0.98278578, -0.97824456, -0.97275021, -0.96877029, -0.88761912,\n",
       "       -0.87771367, -0.8760765 , -0.86779216, -0.86289054, -0.84982198])"
      ]
     },
     "execution_count": 37,
     "metadata": {},
     "output_type": "execute_result"
    }
   ],
   "source": [
    "b[:,0][sort2d[:,0]][:pct]"
   ]
  },
  {
   "cell_type": "code",
   "execution_count": 38,
   "metadata": {},
   "outputs": [
    {
     "data": {
      "text/plain": [
       "<BarContainer object of 40 artists>"
      ]
     },
     "execution_count": 38,
     "metadata": {},
     "output_type": "execute_result"
    },
    {
     "data": {
      "image/png": "[encoded data removed]",
      "text/plain": [
       "<Figure size 432x288 with 1 Axes>"
      ]
     },
     "metadata": {
      "needs_background": "light"
     },
     "output_type": "display_data"
    }
   ],
   "source": [
    "plt.bar(height=b[:,0][sort2d[:,0]][:pct],x=bottom)"
   ]
  },
  {
   "cell_type": "code",
   "execution_count": 39,
   "metadata": {},
   "outputs": [
    {
     "data": {
      "text/plain": [
       "<BarContainer object of 40 artists>"
      ]
     },
     "execution_count": 39,
     "metadata": {},
     "output_type": "execute_result"
    },
    {
     "data": {
      "image/png": "[encoded data removed]",
      "text/plain": [
       "<Figure size 432x288 with 1 Axes>"
      ]
     },
     "metadata": {
      "needs_background": "light"
     },
     "output_type": "display_data"
    }
   ],
   "source": [
    "plt.bar(height=b[:,0][sort2d[:,0]][-pct:],x=top)"
   ]
  },
  {
   "cell_type": "code",
   "execution_count": null,
   "metadata": {},
   "outputs": [],
   "source": []
  }
 ],
 "metadata": {
  "kernelspec": {
   "display_name": "Python 3",
   "language": "python",
   "name": "python3"
  },
  "language_info": {
   "codemirror_mode": {
    "name": "ipython",
    "version": 3
   },
   "file_extension": ".py",
   "mimetype": "text/x-python",
   "name": "python",
   "nbconvert_exporter": "python",
   "pygments_lexer": "ipython3",
   "version": "3.7.9"
  }
 },
 "nbformat": 4,
 "nbformat_minor": 4
}
