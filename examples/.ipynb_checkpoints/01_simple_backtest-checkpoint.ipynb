{
 "cells": [
  {
   "cell_type": "markdown",
   "metadata": {},
   "source": [
    "# Example Notebook #1\n",
    "In this notebook the problem we would like to solve is that given a set of instruments that are intertemporally independent, we want to construct a portfolio based on a weighing scheme that guides the allocation process. After conducting this simple test, we would like to evaluate the results based on standard measures of risk and performance, benchmark it to our chosen instrument and conduct a simple risk attribution using a user defined cross-sectional factor model."
   ]
  },
  {
   "cell_type": "code",
   "execution_count": 20,
   "metadata": {},
   "outputs": [
    {
     "name": "stdout",
     "output_type": "stream",
     "text": [
      "The autoreload extension is already loaded. To reload it, use:\n",
      "  %reload_ext autoreload\n"
     ]
    }
   ],
   "source": [
    "import matplotlib.pyplot as plt\n",
    "import os\n",
    "import pandas as pd\n",
    "%load_ext autoreload\n",
    "%autoreload 2\n",
    "plt.style.use('bmh')"
   ]
  },
  {
   "cell_type": "code",
   "execution_count": 21,
   "metadata": {},
   "outputs": [],
   "source": [
    "os.chdir('C:\\\\Users\\matus\\pysource')"
   ]
  },
  {
   "cell_type": "code",
   "execution_count": 22,
   "metadata": {},
   "outputs": [],
   "source": [
    "from portfolio_swissknife import portfolio as ps\n",
    "from portfolio_swissknife import risk_model as rm"
   ]
  },
  {
   "cell_type": "markdown",
   "metadata": {},
   "source": [
    "## 1. Loading Data and Setup\n",
    "- We first load the data using the `Portfolio` class and it's associated method `get_prices`. The analysis is restricted by a period required to be set by `set_period`. "
   ]
  },
  {
   "cell_type": "code",
   "execution_count": 23,
   "metadata": {},
   "outputs": [
    {
     "name": "stdout",
     "output_type": "stream",
     "text": [
      "[*********************100%***********************]  16 of 16 completed\n"
     ]
    }
   ],
   "source": [
    "sectors = ['XLK', 'XLY', 'XLB', 'XLC', 'XLE', 'XLU', 'XLF', 'XLV', 'XOP']\n",
    "random_stocks = ['JCI', 'TGT', 'CMCSA', 'CPB', 'MO', 'APA', 'MMC', 'JPM',\n",
    "                 'ZION', 'PSA', 'BAX', 'BMY', 'LUV', 'PCAR', 'TXT', 'TMO',]\n",
    "\n",
    "pf1 = ps.Portfolio(random_stocks)\n",
    "pf1.set_period(('2012-01-01', '2021-05-28'))\n",
    "pf1.get_prices('daily')"
   ]
  },
  {
   "cell_type": "code",
   "execution_count": 24,
   "metadata": {},
   "outputs": [
    {
     "name": "stdout",
     "output_type": "stream",
     "text": [
      "[*********************100%***********************]  1 of 1 completed\n",
      "[*********************100%***********************]  1 of 1 completed\n"
     ]
    }
   ],
   "source": [
    "pf1.set_benchmark('SPY')\n",
    "pf1.set_discount('^TNX')"
   ]
  },
  {
   "cell_type": "markdown",
   "metadata": {},
   "source": [
    "## 2. Performing a Historical Backtest With Fixed Assets"
   ]
  },
  {
   "cell_type": "markdown",
   "metadata": {},
   "source": [
    "Then we set the constraints using `set_constraints` and conduct a historical backtest. This will store backtest results in the `Portfolio` class based on the frequency of the rebalance (in trading days), it's estimation period (in trading days) and the model selected in the `models: list`. The supported models are:\n",
    " - Equal Weights (EW)\n",
    " - Global Minimum Variance (GMV)\n",
    " - Equal Risk Contribution (RP)\n",
    " - Maximum Diversification Ratio (MDR)\n",
    " - Maximum Sharpe Ratio (MSR)\n",
    " - Minimum Expected Shortfall (MES)\n",
    " - Minimum Maximum Drawdown (MDD)\n",
    "\n",
    "To be added:\n",
    " - Maximum Skew (MS)\n",
    " - Hierarchical Risk Parity (HRP)\n",
    " \n",
    "We can also select an estimation method currently supported for the first and second moment with a custom function or a function from the built-in estimation methods. \n",
    "Currently supported estimation methods are:\n",
    " - EMA (1st moment)\n",
    " - Elton Gruber (2nd moment)\n",
    " - Shrinkage wrapper (2nd moment)"
   ]
  },
  {
   "cell_type": "code",
   "execution_count": 25,
   "metadata": {},
   "outputs": [],
   "source": [
    "#TODO FIX SHRINKAGE\n",
    "# pf1.set_estimation_method(est.ema_return_historic, moment = 1)\n",
    "# pf1.set_estimation_method(est.elton_gruber_cov, moment = 2)"
   ]
  },
  {
   "cell_type": "code",
   "execution_count": null,
   "metadata": {},
   "outputs": [],
   "source": [
    "pf1.set_constraints(default=True) #defaults to long_only fully invested portfolio with no leverage\n",
    "pf1.historical_backtest(models=['EW','RP', 'GMV', 'MDD'], frequency=22, estimation_period = 252)"
   ]
  },
  {
   "cell_type": "code",
   "execution_count": null,
   "metadata": {},
   "outputs": [],
   "source": [
    "#runtimes\n",
    "pd.DataFrame(pf1.backtest).loc['opt_time'].plot(kind='bar', title='Optimization runtime')"
   ]
  },
  {
   "cell_type": "code",
   "execution_count": null,
   "metadata": {},
   "outputs": [],
   "source": [
    "pf1.get_backtest_report(num_rows=3)"
   ]
  },
  {
   "cell_type": "markdown",
   "metadata": {},
   "source": [
    "## 3. Performing Risk Attribution\n",
    "- After we backtested some weighting schemes we would like to decompose the risk. This can be done using the object `RiskModel` which provides the methods `rolling_backtest` to conduct a rolling estimation of a pre-specified factor model. The results can then be visualized through `get_risk_report` or further accesed within the object."
   ]
  },
  {
   "cell_type": "code",
   "execution_count": null,
   "metadata": {},
   "outputs": [],
   "source": [
    "factors = ['SPY', 'VLUE', 'SIZE', 'QUAL', 'MTUM', 'USMV']\n",
    "rm1 = rm.RiskModel(pf1, factors)\n",
    "rm1.get_prices('daily')"
   ]
  },
  {
   "cell_type": "code",
   "execution_count": null,
   "metadata": {},
   "outputs": [],
   "source": [
    "rm1.rolling_backtest(method='linear')"
   ]
  },
  {
   "cell_type": "code",
   "execution_count": null,
   "metadata": {},
   "outputs": [],
   "source": [
    "rm1.get_risk_report(model = 'GMV')"
   ]
  },
  {
   "cell_type": "code",
   "execution_count": null,
   "metadata": {},
   "outputs": [],
   "source": []
  }
 ],
 "metadata": {
  "kernelspec": {
   "display_name": "Python 3",
   "language": "python",
   "name": "python3"
  },
  "language_info": {
   "codemirror_mode": {
    "name": "ipython",
    "version": 3
   },
   "file_extension": ".py",
   "mimetype": "text/x-python",
   "name": "python",
   "nbconvert_exporter": "python",
   "pygments_lexer": "ipython3",
   "version": "3.7.9"
  }
 },
 "nbformat": 4,
 "nbformat_minor": 4
}
