{
 "cells": [
  {
   "cell_type": "markdown",
   "metadata": {},
   "source": [
    "# Example Notebook #2\n",
    "This notebook illustrates a portfolio construction process with the use of the `RiskModel` object. Its main purpose is to select a set of assets out of the investment universe characterised by the securities attribute in the `Portfolio` class. In this way, the process is repeated periodically forming a quantile spread on the selected factor. This simple dynamic factor allocation strategy can be backtested..."
   ]
  },
  {
   "cell_type": "code",
   "execution_count": 35,
   "metadata": {},
   "outputs": [
    {
     "name": "stdout",
     "output_type": "stream",
     "text": [
      "The autoreload extension is already loaded. To reload it, use:\n",
      "  %reload_ext autoreload\n"
     ]
    }
   ],
   "source": [
    "import pandas as pd\n",
    "import numpy as np\n",
    "import matplotlib.pyplot as plt\n",
    "import os\n",
    "%load_ext autoreload\n",
    "%autoreload 2\n",
    "plt.style.use('bmh')"
   ]
  },
  {
   "cell_type": "code",
   "execution_count": 2,
   "metadata": {},
   "outputs": [],
   "source": [
    "os.chdir('C:\\\\Users\\matus\\pysource\\portfolio-swissknife')"
   ]
  },
  {
   "cell_type": "code",
   "execution_count": 3,
   "metadata": {},
   "outputs": [],
   "source": [
    "from portfolio import Portfolio\n",
    "from risk_model import RiskModel\n",
    "import estimation as est\n",
    "import optimization as opt\n",
    "import plotting\n",
    "import metrics"
   ]
  },
  {
   "cell_type": "code",
   "execution_count": 7,
   "metadata": {},
   "outputs": [],
   "source": [
    "#loading ext. data -- close prices of SPX\n",
    "universe = pd.read_csv('ext_data/00_db_SPX__PX_LAST.csv', index_col = 0, parse_dates = True)\n",
    "universe = universe[::-1].loc[:,universe.notna().all(axis=0)]\n",
    "securities = [universe.columns[i].split(' ')[0] for i, _ in enumerate(universe.columns)]\n",
    "universe = universe.loc['2014':]"
   ]
  },
  {
   "cell_type": "code",
   "execution_count": 8,
   "metadata": {},
   "outputs": [],
   "source": [
    "port_universe = Portfolio(securities)\n",
    "port_universe.set_custom_prices(universe, 'daily')"
   ]
  },
  {
   "cell_type": "code",
   "execution_count": 15,
   "metadata": {},
   "outputs": [
    {
     "name": "stdout",
     "output_type": "stream",
     "text": [
      "[*********************100%***********************]  6 of 6 completed\n"
     ]
    }
   ],
   "source": [
    "factors = ['SPY', 'VLUE', 'SIZE', 'QUAL', 'MTUM', 'USMV']\n",
    "rm_universe = RiskModel(port_universe, factors)\n",
    "rm_universe.get_prices('daily')"
   ]
  },
  {
   "cell_type": "code",
   "execution_count": 19,
   "metadata": {},
   "outputs": [
    {
     "data": {
      "text/plain": [
       "(1771, 6)"
      ]
     },
     "execution_count": 19,
     "metadata": {},
     "output_type": "execute_result"
    }
   ],
   "source": [
    "rm_universe.returns.shape"
   ]
  },
  {
   "cell_type": "code",
   "execution_count": 30,
   "metadata": {},
   "outputs": [],
   "source": [
    "a, b, c = rm_universe._estimate_panel(method='linear')"
   ]
  },
  {
   "cell_type": "code",
   "execution_count": 33,
   "metadata": {},
   "outputs": [
    {
     "data": {
      "text/plain": [
       "(403, 6)"
      ]
     },
     "execution_count": 33,
     "metadata": {},
     "output_type": "execute_result"
    }
   ],
   "source": [
    "b.shape"
   ]
  },
  {
   "cell_type": "code",
   "execution_count": 52,
   "metadata": {},
   "outputs": [],
   "source": [
    "sort = np.argsort(b[:,0])"
   ]
  },
  {
   "cell_type": "code",
   "execution_count": 63,
   "metadata": {},
   "outputs": [
    {
     "data": {
      "text/plain": [
       "<BarContainer object of 403 artists>"
      ]
     },
     "execution_count": 63,
     "metadata": {},
     "output_type": "execute_result"
    },
    {
     "data": {
      "image/png": "[encoded data removed]",
      "text/plain": [
       "<Figure size 432x288 with 1 Axes>"
      ]
     },
     "metadata": {
      "needs_background": "light"
     },
     "output_type": "display_data"
    }
   ],
   "source": [
    "plt.bar(height=b[:,0][sort],x=np.array(rm_universe.portfolio.securities)[sort])"
   ]
  },
  {
   "cell_type": "code",
   "execution_count": 57,
   "metadata": {},
   "outputs": [
    {
     "data": {
      "text/plain": [
       "array(['CMG', 'UAL', 'QCOM', 'AES', 'GRMN', 'PWR', 'PEAK', 'PG', 'AZO',\n",
       "       'HES', 'AAP', 'JCI', 'HSY', 'FCX', 'WELL', 'DISCA', 'OKE', 'KIM',\n",
       "       'ETR', 'SO', 'CPB', 'MRK', 'GIS', 'XRAY', 'FAST', 'KSU', 'DOV',\n",
       "       'CMI', 'WU', 'J', 'TGT', 'PCAR', 'WHR', 'ZBH', 'XRX', 'DFS', 'O',\n",
       "       'DIS', 'BLL', 'ETN', 'SRE', 'KLAC', 'KMB', 'DISH', 'T', 'TSCO',\n",
       "       'KMX', 'LEG', 'PPL', 'FE', 'AKAM', 'PPG', 'DVA', 'GPC', 'FLS',\n",
       "       'PH', 'NLOK', 'GWW', 'EIX', 'VZ', 'CMCSA', 'RTX', 'D', 'EMR',\n",
       "       'CINF', 'MAA', 'INCY', 'MLM', 'MET', 'KR', 'IBM', 'ES', 'AMP',\n",
       "       'SBUX', 'OMC', 'EQR', 'AVB', 'UNP', 'VTR', 'TT', 'APD', 'COF',\n",
       "       'BXP', 'NSC', 'ADM', 'FMC', 'CL', 'DUK', 'AXP', 'UHS', 'ECL',\n",
       "       'HSIC', 'ALK', 'KO', 'LIN', 'WRB', 'ORLY', 'URI', 'MCK', 'WMT',\n",
       "       'CB', 'ESS', 'TDG', 'MDT', 'PAYX', 'TJX', 'CVX', 'CAH', 'USB',\n",
       "       'WEC', 'SJM', 'IPG', 'RE', 'AIZ', 'PNR', 'EVRG', 'UDR', 'DTE',\n",
       "       'SNA', 'EFX', 'TSN', 'K', 'UPS', 'NEM', 'GS', 'CNP', 'DRE', 'L',\n",
       "       'FRT', 'LKQ', 'NUE', 'PXD', 'TFC', 'CERN', 'CVS', 'MGM', 'PRU',\n",
       "       'CBRE', 'PEG', 'NRG', 'SEE', 'AJG', 'GL', 'IRM', 'CMS', 'AIG',\n",
       "       'ARE', 'JNJ', 'SYY', 'PSA', 'ITW', 'HOLX', 'LEN', 'HIG', 'MMC',\n",
       "       'IP', 'PNW', 'ABC', 'WMB', 'C', 'ALL', 'LLY', 'WY', 'COP', 'BMY',\n",
       "       'AFL', 'GLW', 'CCI', 'ROK', 'TRV', 'AEE', 'KEY', 'MS', 'PHM',\n",
       "       'ALXN', 'CHD', 'AMGN', 'LNC', 'XLNX', 'ED', 'PLD', 'AON', 'MKC',\n",
       "       'HRL', 'HON', 'AME', 'REGN', 'LVS', 'LDOS', 'FITB', 'AMT', 'VMC',\n",
       "       'BRK/B', 'BWA', 'COST', 'INTC', 'SWK', 'VFC', 'YUM', 'CF', 'COO',\n",
       "       'DAL', 'CAG', 'RHI', 'MSI', 'PNC', 'HBAN', 'PBCT', 'MCHP', 'BF/B',\n",
       "       'TEL', 'PFE', 'JPM', 'NTRS', 'FFIV', 'APH', 'WAB', 'MTB', 'DHR',\n",
       "       'DGX', 'UAA', 'VNO', 'BAC', 'JBHT', 'TAP', 'DLTR', 'F', 'BLK',\n",
       "       'NEE', 'SWKS', 'WM', 'ATO', 'RL', 'TROW', 'CLX', 'CE', 'CAT',\n",
       "       'TDY', 'MO', 'RJF', 'BIIB', 'RSG', 'LUV', 'WYNN', 'IT', 'AMAT',\n",
       "       'IFF', 'GE', 'ALB', 'A', 'NI', 'VAR', 'ZBRA', 'SLG', 'EXPE',\n",
       "       'ROST', 'ABT', 'CSCO', 'ULTA', 'PKG', 'EXPD', 'EMN', 'BK', 'HBI',\n",
       "       'ZION', 'CHRW', 'DE', 'RF', 'GILD', 'LOW', 'NKE', 'FLIR', 'MAS',\n",
       "       'STT', 'FIS', 'BKNG', 'EXR', 'LYV', 'HPQ', 'LH', 'XOM', 'BKR',\n",
       "       'LMT', 'SHW', 'BEN', 'SBAC', 'WFC', 'DLR', 'GD', 'MOS', 'ICE',\n",
       "       'BAX', 'MMM', 'MCD', 'RCL', 'COG', 'WAT', 'SYK', 'ACN', 'STE',\n",
       "       'EBAY', 'RMD', 'MCO', 'SPG', 'IEX', 'DRI', 'ROP', 'LHX', 'DD',\n",
       "       'PKI', 'UNM', 'TMO', 'EL', 'FISV', 'BDX', 'DHI', 'TXT', 'EQIX',\n",
       "       'AVY', 'EOG', 'GOOGL', 'AAPL', 'NTAP', 'FDX', 'NDAQ', 'CMA',\n",
       "       'ILMN', 'CI', 'CTXS', 'HD', 'BSX', 'CTSH', 'VLO', 'LUMN', 'ANTM',\n",
       "       'MTD', 'MHK', 'ODFL', 'PVH', 'MNST', 'TFX', 'ANSS', 'SNPS', 'NOC',\n",
       "       'AOS', 'SPGI', 'IVZ', 'JKHY', 'WST', 'SIVB', 'GPS', 'BBY', 'CXO',\n",
       "       'INTU', 'LB', 'ADSK', 'MSFT', 'HUM', 'TYL', 'LRCX', 'MA', 'HAL',\n",
       "       'VRTX', 'TPR', 'POOL', 'STZ', 'DVN', 'VRSN', 'HFC', 'EW', 'BA',\n",
       "       'CTAS', 'CRM', 'MRO', 'BR', 'GPN', 'PGR', 'CCL', 'CPRT', 'UNH',\n",
       "       'DXCM', 'CDNS', 'ROL', 'SLB', 'NOV', 'FTI', 'DPZ', 'IPGP', 'CNC',\n",
       "       'IDXX', 'MKTX', 'EA', 'ISRG', 'ATVI', 'MSCI', 'OXY', 'ADBE',\n",
       "       'ALGN', 'TTWO', 'AMZN', 'NFLX', 'ABMD', 'NVDA'], dtype='<U5')"
      ]
     },
     "execution_count": 57,
     "metadata": {},
     "output_type": "execute_result"
    }
   ],
   "source": [
    "np.array(rm_universe.portfolio.securities)[sort]"
   ]
  },
  {
   "cell_type": "code",
   "execution_count": null,
   "metadata": {},
   "outputs": [],
   "source": []
  }
 ],
 "metadata": {
  "kernelspec": {
   "display_name": "Python 3",
   "language": "python",
   "name": "python3"
  },
  "language_info": {
   "codemirror_mode": {
    "name": "ipython",
    "version": 3
   },
   "file_extension": ".py",
   "mimetype": "text/x-python",
   "name": "python",
   "nbconvert_exporter": "python",
   "pygments_lexer": "ipython3",
   "version": "3.7.9"
  }
 },
 "nbformat": 4,
 "nbformat_minor": 4
}
