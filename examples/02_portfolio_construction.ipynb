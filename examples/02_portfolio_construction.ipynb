{
 "cells": [
  {
   "cell_type": "markdown",
   "metadata": {},
   "source": [
    "# Example Notebook #2\n",
    "This notebook illustrates a portfolio construction process with the use of the `RiskModel` object. Its main purpose is to select a set of assets out of the investment universe characterised by the securities attribute in the `Portfolio` class. In this way, the process is repeated periodically forming a quantile spread on the selected factor. This simple dynamic factor allocation strategy can be backtested..."
   ]
  },
  {
   "cell_type": "code",
   "execution_count": 2,
   "metadata": {},
   "outputs": [
    {
     "name": "stdout",
     "output_type": "stream",
     "text": [
      "The autoreload extension is already loaded. To reload it, use:\n",
      "  %reload_ext autoreload\n"
     ]
    }
   ],
   "source": [
    "import pandas as pd\n",
    "import numpy as np\n",
    "import matplotlib.pyplot as plt\n",
    "import os\n",
    "%load_ext autoreload\n",
    "%autoreload 2\n",
    "plt.style.use('bmh')"
   ]
  },
  {
   "cell_type": "code",
   "execution_count": 3,
   "metadata": {},
   "outputs": [],
   "source": [
    "from portfolio_swissknife import portfolio as ps\n",
    "from portfolio_swissknife import risk_model as rm"
   ]
  },
  {
   "cell_type": "code",
   "execution_count": 5,
   "metadata": {},
   "outputs": [],
   "source": [
    "#loading ext. data -- close prices of SPX\n",
    "universe = pd.read_csv('../ext_data/00_db_SPX__PX_LAST.csv', index_col = 0, parse_dates = True)\n",
    "universe = universe[::-1].loc[:,universe.notna().all(axis=0)]\n",
    "securities = [universe.columns[i].split(' ')[0] for i, _ in enumerate(universe.columns)]\n",
    "universe = universe.loc['2014':]"
   ]
  },
  {
   "cell_type": "code",
   "execution_count": 7,
   "metadata": {},
   "outputs": [],
   "source": [
    "port_universe = ps.Portfolio(securities)\n",
    "port_universe.set_custom_prices(universe, 'daily')"
   ]
  },
  {
   "cell_type": "code",
   "execution_count": 8,
   "metadata": {},
   "outputs": [
    {
     "name": "stdout",
     "output_type": "stream",
     "text": [
      "[*********************100%***********************]  6 of 6 completed\n"
     ]
    }
   ],
   "source": [
    "factors = ['SPY', 'VLUE', 'SIZE', 'QUAL', 'MTUM', 'USMV']\n",
    "rm_universe = rm.RiskModel(port_universe, factors)\n",
    "rm_universe.get_prices('daily')"
   ]
  },
  {
   "cell_type": "code",
   "execution_count": 36,
   "metadata": {},
   "outputs": [],
   "source": [
    "a, b, c = rm_universe._estimate_panel(method='linear')"
   ]
  },
  {
   "cell_type": "code",
   "execution_count": 47,
   "metadata": {},
   "outputs": [],
   "source": [
    "sort = np.argsort(b[:,0])"
   ]
  },
  {
   "cell_type": "code",
   "execution_count": 48,
   "metadata": {},
   "outputs": [],
   "source": [
    "sort2d = np.argsort(b,axis = 0)"
   ]
  },
  {
   "cell_type": "code",
   "execution_count": 58,
   "metadata": {},
   "outputs": [
    {
     "data": {
      "text/plain": [
       "array([ 80, 362, 306,  11, 285, 288,  40,   1, 174, 167, 304, 203, 182,\n",
       "       349, 137, 384, 215, 331, 109,  90, 209, 392, 253, 144, 160, 386,\n",
       "       278, 284, 145,  81, 397, 113, 400, 276, 108, 334, 398, 201, 212,\n",
       "        16, 104,  53, 136, 211, 355, 169, 300, 110, 342, 147, 119, 219,\n",
       "       299, 153, 127, 380, 164, 235, 100,  79, 320, 267, 214,  25, 130,\n",
       "       242,  32, 133,  37, 190,   8, 247, 134,  75, 290, 322,  39, 279,\n",
       "       368,  85, 364, 280, 210, 181, 118, 379, 213, 184, 271,  19,  59,\n",
       "       241, 390, 357,  76, 124, 350, 135, 223,  14, 194, 369, 239, 383,\n",
       "       389, 371, 329, 138, 282, 363,  64, 154, 370, 296, 117, 207, 326,\n",
       "       344,  98, 126, 308, 115,  62, 168,  65,  34, 347,  97, 341, 286,\n",
       "       220,  82,  70, 216,  84, 161, 302, 155, 196, 301, 224, 323, 274,\n",
       "       177, 270, 297, 248, 305, 205, 243, 193, 176,  24,  54, 291, 393,\n",
       "        15,  10, 356,  72,  13,  88, 294, 180, 263,  20, 208, 199, 125,\n",
       "         3,  89, 225,  60,  56, 162, 373,  21, 255, 245,  12,  66, 375,\n",
       "        30, 315, 227, 311,  23, 218, 354, 309, 191,  58,  61, 339, 178,\n",
       "       151,  71, 388, 338, 232, 101,  26, 171, 381,  47, 273,  87, 295,\n",
       "       202, 346, 231, 399, 353, 287, 105, 258, 283, 148,  35,  33, 206,\n",
       "       259,  69, 312, 313,  48,  52,  42, 140, 198, 376, 387, 143,  77,\n",
       "       112, 107, 319, 228,  73, 262, 372, 188, 292, 395, 265, 361, 365,\n",
       "       266, 318, 149, 141, 238,   5,  49, 142, 251, 129,  93,  63, 328,\n",
       "       343, 394, 336, 310, 111, 226, 158, 221,   0, 152, 402, 324,  50,\n",
       "       236, 159, 179, 345, 321, 307, 157, 103,  17, 185, 172,  46, 385,\n",
       "       233, 249, 237, 396, 252, 335,  43,  51, 340, 116, 401,   6, 382,\n",
       "       240,  86,  22,  45, 106, 317, 187, 150, 123, 132, 293, 359, 102,\n",
       "       332, 351, 146, 222, 128,   2, 367, 272, 314, 261, 131, 163,  74,\n",
       "        96,  38,  95, 189, 173,  57,  78, 374,  29,  44, 244, 268, 250,\n",
       "       230, 260, 303,  31, 204, 277, 183, 325, 333,  28, 348, 200, 166,\n",
       "        99, 192, 360, 391, 378, 234, 330, 175, 337, 257, 352,  92, 120,\n",
       "       139, 170, 377,  55,  41,  94, 298, 217, 254,   9, 366, 289, 229,\n",
       "       165, 121,  67,  91, 316,  83,  68, 269, 327, 114, 156, 195, 122,\n",
       "       197, 186,  36, 246, 281, 256,   7, 358,  18,  27, 264,   4, 275],\n",
       "      dtype=int64)"
      ]
     },
     "execution_count": 58,
     "metadata": {},
     "output_type": "execute_result"
    }
   ],
   "source": [
    "sort2d[:,0]"
   ]
  },
  {
   "cell_type": "code",
   "execution_count": 65,
   "metadata": {},
   "outputs": [
    {
     "data": {
      "text/plain": [
       "<BarContainer object of 403 artists>"
      ]
     },
     "execution_count": 65,
     "metadata": {},
     "output_type": "execute_result"
    },
    {
     "data": {
      "image/png": "[encoded data removed]",
      "text/plain": [
       "<Figure size 432x288 with 1 Axes>"
      ]
     },
     "metadata": {
      "needs_background": "light"
     },
     "output_type": "display_data"
    }
   ],
   "source": [
    "plt.bar(height=b[:,0][sort2d[:,0]],x=np.array(rm_universe.portfolio.securities)[sort2d[:,0]])"
   ]
  },
  {
   "cell_type": "code",
   "execution_count": 62,
   "metadata": {},
   "outputs": [
    {
     "data": {
      "text/plain": [
       "array(['CMG', 'UAL', 'QCOM', 'AES', 'PEAK', 'PG', 'AZO', 'AAP', 'HES',\n",
       "       'GRMN'], dtype='<U5')"
      ]
     },
     "execution_count": 62,
     "metadata": {},
     "output_type": "execute_result"
    }
   ],
   "source": [
    "np.array(rm_universe.portfolio.securities)[sort2d[:,0]][:10]"
   ]
  },
  {
   "cell_type": "code",
   "execution_count": 14,
   "metadata": {},
   "outputs": [
    {
     "data": {
      "text/plain": [
       "array(['CMG', 'UAL', 'QCOM', 'AES', 'PEAK', 'PG', 'AZO', 'AAP', 'HES',\n",
       "       'GRMN', 'PWR', 'JCI', 'HSY', 'TGT', 'ETR', 'WELL', 'KSU', 'SO',\n",
       "       'DISCA', 'CPB', 'KIM', 'WU', 'MRK', 'FAST', 'GIS', 'WHR', 'OKE',\n",
       "       'PCAR', 'FCX', 'CMI', 'XRAY', 'DOV', 'ZBH', 'O', 'DIS', 'SRE',\n",
       "       'XRX', 'J', 'KMX', 'AKAM', 'DFS', 'BLL', 'ETN', 'KMB', 'TSCO',\n",
       "       'GWW', 'PPL', 'DISH', 'T', 'FE', 'DVA', 'LEG', 'PPG', 'FLS', 'EIX',\n",
       "       'VZ', 'GPC', 'MAA', 'D', 'CMCSA', 'RTX', 'NLOK', 'KR', 'AMP',\n",
       "       'EMR', 'MET', 'APD', 'EQR', 'AVB', 'INCY', 'ADM', 'MLM', 'ES',\n",
       "       'CINF', 'PH', 'SBUX', 'AXP', 'OMC', 'UNP', 'COF', 'UHS', 'ORLY',\n",
       "       'KLAC', 'HSIC', 'DUK', 'VTR', 'KO', 'IBM', 'NSC', 'ALK', 'BXP',\n",
       "       'MDT', 'WRB', 'TT', 'CL', 'ECL', 'TJX', 'ESS', 'LIN', 'AIZ', 'IPG',\n",
       "       'UPS', 'MCK', 'WEC', 'WMT', 'USB', 'SNA', 'EVRG', 'PAYX', 'UDR',\n",
       "       'CB', 'FMC', 'URI', 'PNR', 'DTE', 'K', 'SJM', 'TDG', 'CVX', 'EFX',\n",
       "       'RE', 'DRE', 'CAH', 'GS', 'CBRE', 'ARE', 'TFC', 'CVS', 'SYY',\n",
       "       'PEG', 'LEN', 'CMS', 'CERN', 'L', 'CNP', 'GL', 'PSA', 'FRT', 'IRM',\n",
       "       'PRU', 'LKQ', 'SEE', 'NUE', 'HOLX', 'NRG', 'PNW', 'MMC', 'PXD',\n",
       "       'JNJ', 'MGM', 'IP', 'HIG', 'AMGN', 'BMY', 'PHM', 'WY', 'AJG',\n",
       "       'AEE', 'TSN', 'CHD', 'AIG', 'COP', 'PLD', 'HRL', 'NEM', 'ALL',\n",
       "       'KEY', 'ITW', 'ED', 'ABC', 'COST', 'LLY', 'C', 'BRK/B', 'GLW',\n",
       "       'VFC', 'ALXN', 'MS', 'MKC', 'AFL', 'CCI', 'VMC', 'AON', 'ROK',\n",
       "       'LNC', 'RHI', 'AME', 'LDOS', 'TRV', 'REGN', 'INTC', 'BWA', 'CAG',\n",
       "       'SWKS', 'HON', 'FITB', 'CF', 'WMB', 'SWK', 'LVS', 'DAL', 'AMT',\n",
       "       'HBAN', 'WAB', 'BF/B', 'NTRS', 'COO', 'PNC', 'JBHT', 'TEL', 'LUV',\n",
       "       'YUM', 'TROW', 'PFE', 'DGX', 'MSI', 'PBCT', 'FFIV', 'ATO', 'APH',\n",
       "       'JPM', 'MTB', 'CE', 'RJF', 'RL', 'BIIB', 'BLK', 'BAC', 'EXPD',\n",
       "       'IT', 'VNO', 'WM', 'F', 'CLX', 'DLTR', 'DHR', 'RSG', 'LOW', 'CHRW',\n",
       "       'NEE', 'VAR', 'IFF', 'PKG', 'XLNX', 'NI', 'UAA', 'ULTA', 'NKE',\n",
       "       'ROST', 'FIS', 'EXPE', 'MCHP', 'ABT', 'BK', 'EXR', 'MO', 'EMN',\n",
       "       'CSCO', 'CAT', 'SLG', 'TAP', 'WYNN', 'STT', 'RF', 'DLR', 'LMT',\n",
       "       'GE', 'LH', 'A', 'FLIR', 'ZION', 'SHW', 'BKNG', 'MAS', 'GILD',\n",
       "       'HPQ', 'TDY', 'SBAC', 'RCL', 'GD', 'DE', 'ALB', 'ICE', 'HBI',\n",
       "       'BEN', 'WFC', 'LYV', 'MMM', 'MCD', 'XOM', 'MOS', 'STE', 'BAX',\n",
       "       'BKR', 'SYK', 'DRI', 'ZBRA', 'ACN', 'WAT', 'MCO', 'COG', 'AMAT',\n",
       "       'BDX', 'DHI', 'ROP', 'IEX', 'FISV', 'EBAY', 'EQIX', 'PKI', 'TXT',\n",
       "       'DD', 'SPG', 'TMO', 'FDX', 'LHX', 'EL', 'AAPL', 'UNM', 'NTAP',\n",
       "       'RMD', 'NDAQ', 'EOG', 'GOOGL', 'CI', 'CTXS', 'AVY', 'CTSH', 'ILMN',\n",
       "       'HD', 'BSX', 'CMA', 'VLO', 'ANTM', 'BBY', 'MHK', 'NOC', 'MNST',\n",
       "       'LUMN', 'MTD', 'PVH', 'AOS', 'JKHY', 'ODFL', 'HUM', 'SIVB', 'SPGI',\n",
       "       'ANSS', 'TFX', 'IVZ', 'GPS', 'CXO', 'INTU', 'TYL', 'WST', 'VRTX',\n",
       "       'MA', 'SNPS', 'HFC', 'STZ', 'MSFT', 'TPR', 'CRM', 'DVN', 'EW',\n",
       "       'HAL', 'VRSN', 'BR', 'BA', 'CTAS', 'POOL', 'LB', 'MRO', 'ADSK',\n",
       "       'UNH', 'PGR', 'LRCX', 'GPN', 'DXCM', 'CCL', 'CPRT', 'ROL', 'CNC',\n",
       "       'CDNS', 'NOV', 'SLB', 'DPZ', 'FTI', 'IPGP', 'EA', 'ISRG', 'IDXX',\n",
       "       'ATVI', 'MKTX', 'OXY', 'MSCI', 'ADBE', 'TTWO', 'ALGN', 'AMZN',\n",
       "       'NFLX', 'ABMD', 'NVDA'], dtype='<U5')"
      ]
     },
     "execution_count": 14,
     "metadata": {},
     "output_type": "execute_result"
    }
   ],
   "source": [
    "np.array(rm_universe.portfolio.securities)[sort]"
   ]
  },
  {
   "cell_type": "code",
   "execution_count": null,
   "metadata": {},
   "outputs": [],
   "source": []
  }
 ],
 "metadata": {
  "kernelspec": {
   "display_name": "Python 3",
   "language": "python",
   "name": "python3"
  },
  "language_info": {
   "codemirror_mode": {
    "name": "ipython",
    "version": 3
   },
   "file_extension": ".py",
   "mimetype": "text/x-python",
   "name": "python",
   "nbconvert_exporter": "python",
   "pygments_lexer": "ipython3",
   "version": "3.7.9"
  }
 },
 "nbformat": 4,
 "nbformat_minor": 4
}
