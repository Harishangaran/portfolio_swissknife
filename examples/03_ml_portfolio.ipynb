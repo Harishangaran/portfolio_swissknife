{
 "cells": [
  {
   "cell_type": "markdown",
   "id": "40ddca27-d79d-46cc-b805-232e0515b6aa",
   "metadata": {},
   "source": [
    "# Example Notebook #3 - ML Portfolio"
   ]
  },
  {
   "cell_type": "code",
   "execution_count": null,
   "id": "fcbfafca-c560-47a1-8505-7db8b0918453",
   "metadata": {},
   "outputs": [],
   "source": []
  }
 ],
 "metadata": {
  "kernelspec": {
   "display_name": "Python 3",
   "language": "python",
   "name": "python3"
  },
  "language_info": {
   "codemirror_mode": {
    "name": "ipython",
    "version": 3
   },
   "file_extension": ".py",
   "mimetype": "text/x-python",
   "name": "python",
   "nbconvert_exporter": "python",
   "pygments_lexer": "ipython3",
   "version": "3.9.5"
  }
 },
 "nbformat": 4,
 "nbformat_minor": 5
}
